{
 "cells": [
  {
   "cell_type": "code",
   "execution_count": 214,
   "metadata": {},
   "outputs": [],
   "source": [
    "import pandas as pd\n",
    "import numpy as np\n",
    "import re"
   ]
  },
  {
   "cell_type": "code",
   "execution_count": 297,
   "metadata": {},
   "outputs": [
    {
     "data": {
      "text/html": [
       "<div>\n",
       "<style scoped>\n",
       "    .dataframe tbody tr th:only-of-type {\n",
       "        vertical-align: middle;\n",
       "    }\n",
       "\n",
       "    .dataframe tbody tr th {\n",
       "        vertical-align: top;\n",
       "    }\n",
       "\n",
       "    .dataframe thead th {\n",
       "        text-align: right;\n",
       "    }\n",
       "</style>\n",
       "<table border=\"1\" class=\"dataframe\">\n",
       "  <thead>\n",
       "    <tr style=\"text-align: right;\">\n",
       "      <th></th>\n",
       "      <th>created_at</th>\n",
       "      <th>id</th>\n",
       "      <th>full_text</th>\n",
       "      <th>source</th>\n",
       "      <th>retweet_count</th>\n",
       "      <th>favorite_count</th>\n",
       "      <th>hashtags</th>\n",
       "      <th>user_handle</th>\n",
       "      <th>user_screen_name</th>\n",
       "      <th>user_location</th>\n",
       "      <th>user_followers_count</th>\n",
       "      <th>user_verified</th>\n",
       "    </tr>\n",
       "  </thead>\n",
       "  <tbody>\n",
       "    <tr>\n",
       "      <th>0</th>\n",
       "      <td>Mon Mar 08 08:16:08 +0000 2021</td>\n",
       "      <td>1368837927178887168</td>\n",
       "      <td>Called my ex house-help asking her to get her ...</td>\n",
       "      <td>&lt;a href=\"http://twitter.com/download/iphone\" r...</td>\n",
       "      <td>0</td>\n",
       "      <td>0</td>\n",
       "      <td>NaN</td>\n",
       "      <td>Shalini</td>\n",
       "      <td>ShaliniSainath</td>\n",
       "      <td>Mumbai, India</td>\n",
       "      <td>85</td>\n",
       "      <td>False</td>\n",
       "    </tr>\n",
       "    <tr>\n",
       "      <th>1</th>\n",
       "      <td>Mon Mar 08 08:15:42 +0000 2021</td>\n",
       "      <td>1368837820287086594</td>\n",
       "      <td>I am allergic and take steroids for the same. ...</td>\n",
       "      <td>&lt;a href=\"https://mobile.twitter.com\" rel=\"nofo...</td>\n",
       "      <td>0</td>\n",
       "      <td>0</td>\n",
       "      <td>NaN</td>\n",
       "      <td>Mukul Garga</td>\n",
       "      <td>mukul3762</td>\n",
       "      <td>Uttar Pradesh</td>\n",
       "      <td>1235</td>\n",
       "      <td>False</td>\n",
       "    </tr>\n",
       "    <tr>\n",
       "      <th>2</th>\n",
       "      <td>Mon Mar 08 08:13:31 +0000 2021</td>\n",
       "      <td>1368837268585078784</td>\n",
       "      <td>My 5cents’ thought: Vaccine researchers and ma...</td>\n",
       "      <td>&lt;a href=\"http://twitter.com/download/iphone\" r...</td>\n",
       "      <td>0</td>\n",
       "      <td>0</td>\n",
       "      <td>COVID19</td>\n",
       "      <td>deetcho</td>\n",
       "      <td>deetcho</td>\n",
       "      <td>Lao People's Democratic Republ</td>\n",
       "      <td>16</td>\n",
       "      <td>False</td>\n",
       "    </tr>\n",
       "    <tr>\n",
       "      <th>3</th>\n",
       "      <td>Mon Mar 08 08:13:30 +0000 2021</td>\n",
       "      <td>1368837263774351360</td>\n",
       "      <td>Covid death rate 10 times higher in overweight...</td>\n",
       "      <td>&lt;a href=\"https://ifttt.com\" rel=\"nofollow\"&gt;IFT...</td>\n",
       "      <td>0</td>\n",
       "      <td>0</td>\n",
       "      <td>NaN</td>\n",
       "      <td>Sunder Barange</td>\n",
       "      <td>sunder_barange</td>\n",
       "      <td>Indore, India</td>\n",
       "      <td>299</td>\n",
       "      <td>False</td>\n",
       "    </tr>\n",
       "    <tr>\n",
       "      <th>4</th>\n",
       "      <td>Mon Mar 08 08:13:05 +0000 2021</td>\n",
       "      <td>1368837158992220160</td>\n",
       "      <td>Corona in the World: AstraZeneca’s Vaccine Sus...</td>\n",
       "      <td>&lt;a href=\"http://publicize.wp.com/\" rel=\"nofoll...</td>\n",
       "      <td>0</td>\n",
       "      <td>0</td>\n",
       "      <td>NaN</td>\n",
       "      <td>todaymynews1</td>\n",
       "      <td>todaymynews1</td>\n",
       "      <td>Gandhinagar</td>\n",
       "      <td>355</td>\n",
       "      <td>False</td>\n",
       "    </tr>\n",
       "  </tbody>\n",
       "</table>\n",
       "</div>"
      ],
      "text/plain": [
       "                       created_at                   id  \\\n",
       "0  Mon Mar 08 08:16:08 +0000 2021  1368837927178887168   \n",
       "1  Mon Mar 08 08:15:42 +0000 2021  1368837820287086594   \n",
       "2  Mon Mar 08 08:13:31 +0000 2021  1368837268585078784   \n",
       "3  Mon Mar 08 08:13:30 +0000 2021  1368837263774351360   \n",
       "4  Mon Mar 08 08:13:05 +0000 2021  1368837158992220160   \n",
       "\n",
       "                                           full_text  \\\n",
       "0  Called my ex house-help asking her to get her ...   \n",
       "1  I am allergic and take steroids for the same. ...   \n",
       "2  My 5cents’ thought: Vaccine researchers and ma...   \n",
       "3  Covid death rate 10 times higher in overweight...   \n",
       "4  Corona in the World: AstraZeneca’s Vaccine Sus...   \n",
       "\n",
       "                                              source  retweet_count  \\\n",
       "0  <a href=\"http://twitter.com/download/iphone\" r...              0   \n",
       "1  <a href=\"https://mobile.twitter.com\" rel=\"nofo...              0   \n",
       "2  <a href=\"http://twitter.com/download/iphone\" r...              0   \n",
       "3  <a href=\"https://ifttt.com\" rel=\"nofollow\">IFT...              0   \n",
       "4  <a href=\"http://publicize.wp.com/\" rel=\"nofoll...              0   \n",
       "\n",
       "   favorite_count hashtags     user_handle user_screen_name  \\\n",
       "0               0      NaN         Shalini   ShaliniSainath   \n",
       "1               0      NaN     Mukul Garga        mukul3762   \n",
       "2               0  COVID19         deetcho          deetcho   \n",
       "3               0      NaN  Sunder Barange   sunder_barange   \n",
       "4               0      NaN    todaymynews1     todaymynews1   \n",
       "\n",
       "                    user_location  user_followers_count  user_verified  \n",
       "0                   Mumbai, India                    85          False  \n",
       "1                   Uttar Pradesh                  1235          False  \n",
       "2  Lao People's Democratic Republ                    16          False  \n",
       "3                   Indore, India                   299          False  \n",
       "4                     Gandhinagar                   355          False  "
      ]
     },
     "execution_count": 297,
     "metadata": {},
     "output_type": "execute_result"
    }
   ],
   "source": [
    "file_name = 'raw_india2.csv'\n",
    "df = pd.read_csv(file_name).drop('keyword',axis=1)\n",
    "df.head()"
   ]
  },
  {
   "cell_type": "code",
   "execution_count": 298,
   "metadata": {},
   "outputs": [],
   "source": [
    "original_length = len(df)"
   ]
  },
  {
   "cell_type": "code",
   "execution_count": 299,
   "metadata": {},
   "outputs": [],
   "source": [
    "# Deleting tweets out of India\n",
    "delete_index = []\n",
    "for i in range(0, len(df)):\n",
    "    if(isinstance(df.iloc[i]['user_location'],str) and (\"Bangladesh\" in df.iloc[i]['user_location'] or \"Pakistan\" in df.iloc[i]['user_location'] or \"Nepal\" in df.iloc[i]['user_location'])):\n",
    "        delete_index.append(i)\n",
    "        \n",
    "df = df.drop(df.index[delete_index])"
   ]
  },
  {
   "cell_type": "code",
   "execution_count": 300,
   "metadata": {},
   "outputs": [],
   "source": [
    "# Deleting karnataka references to prevent contamination of dataset\n",
    "delete_index = []\n",
    "for i in range(0, len(df)):\n",
    "    if(isinstance(df.iloc[i]['full_text'],str) and (\"Karnataka\" in df.iloc[i]['full_text']) and (\"karnataka\" in df.iloc[i]['full_text'])):\n",
    "        delete_index.append(i)\n",
    "        \n",
    "df = df.drop(df.index[delete_index])"
   ]
  },
  {
   "cell_type": "code",
   "execution_count": 301,
   "metadata": {},
   "outputs": [],
   "source": [
    "# Deleting news channels\n",
    "news_handles = ['ndtv', 'aajtak', 'ABPNews', 'TimesNow', 'ZeeNews',\n",
    "                'CNNnews18','ZoomTV','BBCHindi','DDNewslive','ndtvindia',\n",
    "                'abpnewshindi','indiatvnews','ZeeTV','news7tamil','CNBCTV18Live',\n",
    "                'News18UP','CNBCTV18News','BBCIndia','republic','IndiaToday','Quint',\n",
    "                'FirstPost','The Wire','AltNews','Sudharshan','news18dotcom','IMPharmaNews',\n",
    "                'fortis_hospital','moneycontrolcom','ANI','todayindiain','TOIIndiaNews',\n",
    "                'ETimesLifestyle','HindustanTimes','TelanganaToday','DeccanHerald',\n",
    "                'MirrorNow','DDOdiaNews','IndiaAheadNews','OpIndia','Outlook Magazine',\n",
    "                'OpIndia.com','Zee News English','IndSamachar News','DailyO','timesofindia',\n",
    "                'htTweets','thelivemirror','OfficialNews230','dna','ETPanache','MumbaiMirror']\n",
    "\n",
    "for i in range(0, len(df)):\n",
    "#     If raw_india2 is used\n",
    "    if(file_name == 'raw_india2.csv' and (isinstance(df.iloc[i]['user_handle'],str) and df.iloc[i]['user_handle'] in news_handles) or (isinstance(df.iloc[i]['user_screen_name'],str) and df.iloc[i]['user_screen_name'] in news_handles)):\n",
    "        delete_index.append(i)\n",
    "#   If raw_india is used\n",
    "    if(file_name == 'raw_india.csv' and (isinstance(df.iloc[i]['user_screen_name'],str) and df.iloc[i]['user_screen_name'] in news_handles)):\n",
    "        delete_index.append(i)\n",
    "        \n",
    "df = df.drop(df.index[delete_index])"
   ]
  },
  {
   "cell_type": "code",
   "execution_count": 302,
   "metadata": {},
   "outputs": [],
   "source": [
    "#Convert everything to lower case\n",
    "df['full_text'] = df['full_text'].apply(lambda x: str(x).lower())\n",
    "\n",
    "#Remove twitter handlers\n",
    "df['full_text'] = df['full_text'].apply(lambda x:re.sub('@[^\\s]+','',str(x)))\n",
    "\n",
    "#remove hashtags\n",
    "df['full_text'] = df['full_text'].apply(lambda x:re.sub(r'\\B#\\S+','',str(x)))\n",
    "\n",
    "# Remove URLS\n",
    "df['full_text'] = df['full_text'].apply(lambda x:re.sub(r\"http\\S+\", \"\", str(x)))\n",
    "\n",
    "#remove all single characters\n",
    "df['full_text'] = df['full_text'].apply(lambda x:re.sub(r'\\s+[a-zA-Z]\\s+', ' ', str(x)))\n",
    "\n",
    "# Substituting multiple spaces with single space\n",
    "df['full_text'] = df['full_text'].apply(lambda x:re.sub(r'\\s+', ' ', str(x), flags=re.I))\n",
    "\n",
    "#Removing whitespace before and after the tweet\n",
    "df['full_text'] = df['full_text'].apply(lambda x: str(x).strip())\n",
    "\n",
    "# Getting & symbol correctly\n",
    "df['full_text'] = df['full_text'].apply(lambda x:re.sub('&amp;','&',str(x)))\n",
    "\n",
    "#Removing emojis\n",
    "# emoji_pattern = re.compile(\n",
    "#         \"[\"\n",
    "#         u\"\\U0001F600-\\U0001F64F\"  # emoticons\n",
    "#         u\"\\U0001F300-\\U0001F5FF\"  # symbols & pictographs\n",
    "#         u\"\\U0001F680-\\U0001F6FF\"  # transport & map symbols\n",
    "#         u\"\\U0001F1E0-\\U0001F1FF\"  # flags (iOS)\n",
    "#                            \"]+\", flags=re.UNICODE)\n",
    "# df['full_text'] = df['full_text'].apply(lambda x: emoji_pattern.sub(r'', str(x)))"
   ]
  },
  {
   "cell_type": "code",
   "execution_count": 303,
   "metadata": {},
   "outputs": [],
   "source": [
    "unique_tweets = {}\n",
    "for i in range(0,len(df)):\n",
    "    if df.iloc[i]['full_text'] in unique_tweets:\n",
    "        if ((df.iloc[unique_tweets[df.iloc[i]['full_text']]]['retweet_count'] + df.iloc[unique_tweets[df.iloc[i]['full_text']]]['favorite_count']) < (df.iloc[i]['retweet_count'] + df.iloc[i]['favorite_count'])):\n",
    "            unique_tweets[df.iloc[i]['full_text']] = i\n",
    "    else:\n",
    "        unique_tweets[df.iloc[i]['full_text']] = i\n",
    "\n",
    "df = df.take(list(unique_tweets.values()))"
   ]
  },
  {
   "cell_type": "code",
   "execution_count": 304,
   "metadata": {},
   "outputs": [],
   "source": [
    "if file_name == 'raw_india2.csv':\n",
    "    df.to_csv('refined_india_tweets2.csv', index=False)\n",
    "elif file_name == 'raw_india.csv':\n",
    "    df.to_csv('refined_india_tweets.csv', index=False)"
   ]
  },
  {
   "cell_type": "code",
   "execution_count": 305,
   "metadata": {},
   "outputs": [
    {
     "data": {
      "text/plain": [
       "'called my ex house-help asking her to get her parents & elderly vaccinated & she goes “we are already taking the ayurvedic tablets didi” 🙆🏼\\u200d♀️🙆🏼\\u200d♀️🙆🏼\\u200d♀️ took me lot of time explaining what vaccine is & why should they get it asap. vaccine to aa gaya ab sujh-boojh bhi aa jaye 🙏'"
      ]
     },
     "execution_count": 305,
     "metadata": {},
     "output_type": "execute_result"
    }
   ],
   "source": [
    "df.iloc[0]['full_text']"
   ]
  },
  {
   "cell_type": "code",
   "execution_count": 306,
   "metadata": {},
   "outputs": [
    {
     "name": "stdout",
     "output_type": "stream",
     "text": [
      "Original total: 37909\n",
      "New Length: 26147\n",
      "Tweets deleted: 11762\n"
     ]
    }
   ],
   "source": [
    "original_part1 = pd.read_csv('raw_india.csv')\n",
    "original_part2 = pd.read_csv('raw_india2.csv')\n",
    "original_length = len(original_part1) + len(original_part2)\n",
    "\n",
    "refined_part1 = pd.read_csv('refined_india_tweets.csv')\n",
    "refined_part2 = pd.read_csv('refined_india_tweets2.csv')\n",
    "refined_length = len(refined_part1) + len(refined_part2)\n",
    "\n",
    "print('Original total: ' + str(original_length) + '\\nNew Length: ' + str(refined_length) + '\\nTweets deleted: ' + str(original_length-refined_length))"
   ]
  },
  {
   "cell_type": "code",
   "execution_count": 307,
   "metadata": {},
   "outputs": [],
   "source": [
    "comb_df = pd.concat([refined_part1, refined_part2])"
   ]
  },
  {
   "cell_type": "code",
   "execution_count": 308,
   "metadata": {},
   "outputs": [],
   "source": [
    "unique_tweets = {}\n",
    "for i in range(0,len(comb_df)):\n",
    "    if comb_df.iloc[i]['full_text'] in unique_tweets:\n",
    "        if ((comb_df.iloc[unique_tweets[comb_df.iloc[i]['full_text']]]['retweet_count'] + comb_df.iloc[unique_tweets[comb_df.iloc[i]['full_text']]]['favorite_count']) < (comb_df.iloc[i]['retweet_count'] + comb_df.iloc[i]['favorite_count'])):\n",
    "            unique_tweets[comb_df.iloc[i]['full_text']] = i\n",
    "    else:\n",
    "        unique_tweets[comb_df.iloc[i]['full_text']] = i\n",
    "\n",
    "comb_df = comb_df.take(list(unique_tweets.values()))"
   ]
  },
  {
   "cell_type": "code",
   "execution_count": 309,
   "metadata": {},
   "outputs": [
    {
     "name": "stdout",
     "output_type": "stream",
     "text": [
      "21571\n"
     ]
    }
   ],
   "source": [
    "print(len(comb_df))\n",
    "comb_df.to_csv('combined_india_tweets.csv',index=False)"
   ]
  },
  {
   "cell_type": "code",
   "execution_count": null,
   "metadata": {},
   "outputs": [],
   "source": [
    "comb_df = comb_df.reset_index()"
   ]
  },
  {
   "cell_type": "code",
   "execution_count": 317,
   "metadata": {},
   "outputs": [
    {
     "name": "stdout",
     "output_type": "stream",
     "text": [
      "0                              prevent spread, stay safe\n",
      "1      healthcare professionals in the uk have moral ...\n",
      "2      my parents are vaccinated with first dose of c...\n",
      "3      it’s not important news that modi jee took cor...\n",
      "4      two mayo staffers tested positive after 3 week...\n",
      "                             ...                        \n",
      "133    raksha mantri shri rajnath singh received the ...\n",
      "134    at time when assembly elections are going on, ...\n",
      "135    “choose vaccine over virus”, says dr ravinder ...\n",
      "136    “unrealistic we’re going to finish this virus ...\n",
      "137    maran anna chi , whether he takes vaccine now ...\n",
      "Name: full_text, Length: 138, dtype: object\n"
     ]
    }
   ],
   "source": [
    "print(comb_df[0:138]['full_text'])"
   ]
  },
  {
   "cell_type": "code",
   "execution_count": null,
   "metadata": {},
   "outputs": [],
   "source": []
  }
 ],
 "metadata": {
  "kernelspec": {
   "display_name": "Python 3",
   "language": "python",
   "name": "python3"
  },
  "language_info": {
   "codemirror_mode": {
    "name": "ipython",
    "version": 3
   },
   "file_extension": ".py",
   "mimetype": "text/x-python",
   "name": "python",
   "nbconvert_exporter": "python",
   "pygments_lexer": "ipython3",
   "version": "3.8.5"
  }
 },
 "nbformat": 4,
 "nbformat_minor": 4
}
